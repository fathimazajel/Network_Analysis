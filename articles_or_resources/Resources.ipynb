{
 "cells": [
  {
   "cell_type": "markdown",
   "id": "13b040b2-0521-493d-bbb6-cde85344adb4",
   "metadata": {},
   "source": [
    "https://geomdata.gitlab.io/hiveplotlib/karate_club.html"
   ]
  },
  {
   "cell_type": "markdown",
   "id": "fe1317dc-414f-4889-a785-908e6f058767",
   "metadata": {},
   "source": [
    "https://github.com/Saukha/Karate-Club-Analysis"
   ]
  },
  {
   "cell_type": "markdown",
   "id": "b24ad6cd-cd1d-49d8-a98c-836383963596",
   "metadata": {},
   "source": [
    "https://github.com/benedekrozemberczki/karateclub/tree/master/examples"
   ]
  }
 ],
 "metadata": {
  "kernelspec": {
   "display_name": "Python 3 (ipykernel)",
   "language": "python",
   "name": "python3"
  },
  "language_info": {
   "codemirror_mode": {
    "name": "ipython",
    "version": 3
   },
   "file_extension": ".py",
   "mimetype": "text/x-python",
   "name": "python",
   "nbconvert_exporter": "python",
   "pygments_lexer": "ipython3",
   "version": "3.9.12"
  }
 },
 "nbformat": 4,
 "nbformat_minor": 5
}
