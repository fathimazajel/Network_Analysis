{
 "cells": [
  {
   "cell_type": "code",
   "execution_count": 5,
   "metadata": {
    "tags": []
   },
   "outputs": [],
   "source": [
    "import matplotlib.pyplot as plt\n",
    "import networkx as nx\n",
    "import pandas as pd"
   ]
  },
  {
   "cell_type": "code",
   "execution_count": 6,
   "metadata": {
    "tags": []
   },
   "outputs": [
    {
     "data": {
      "text/plain": [
       "'3.0'"
      ]
     },
     "execution_count": 6,
     "metadata": {},
     "output_type": "execute_result"
    }
   ],
   "source": [
    "nx.__version__"
   ]
  },
  {
   "cell_type": "code",
   "execution_count": 8,
   "metadata": {
    "_cell_guid": "b1076dfc-b9ad-4769-8c92-a6c4dae69d19",
    "_uuid": "8f2839f25d086af736a60e9eeb907d3b93b6e0e5",
    "tags": []
   },
   "outputs": [],
   "source": [
    "G = nx.Graph()\n",
    "\n"
   ]
  },
  {
   "cell_type": "code",
   "execution_count": 11,
   "metadata": {},
   "outputs": [
    {
     "data": {
      "image/png": "[encoded data removed]",
      "text/plain": [
       "<Figure size 432x288 with 1 Axes>"
      ]
     },
     "metadata": {},
     "output_type": "display_data"
    }
   ],
   "source": [
    "# Add nodes\n",
    "G.add_nodes_from(range(34))\n",
    "\n",
    "# Add edges\n",
    "edges = [(1, 2), (1, 3), (1, 4), (1, 5), (1, 6), (1, 7), (1, 8), (1, 9), \n",
    "         (1, 11), (1, 12), (1, 13), (1, 14), (1, 18), (1, 20), (1, 22), \n",
    "         (1, 32), (2, 3), (2, 7), (2, 13), (2, 17), (2, 19), (2, 21), \n",
    "         (2, 30), (3, 7), (3, 8), (3, 9), (3, 13), (3, 27), (4, 6), (4, 10), \n",
    "         (5, 6), (5, 10), (5, 16), (7, 8), (8, 30), (9, 32), (13, 27), (14, 32), \n",
    "         (15, 17), (15, 18), (15, 20), (15, 22), (15, 23), (16, 17), (16, 18), (16, 19), \n",
    "         (16, 21), (16, 22), (16, 23), (16, 24), (16, 25), (17, 18), (17, 20), (17, 22)]\n",
    "G.add_edges_from(edges)\n",
    "\n",
    "nx.draw(G, with_labels=True, node_size=100)\n",
    "plt.show()"
   ]
  },
  {
   "cell_type": "code",
   "execution_count": 12,
   "metadata": {
    "tags": []
   },
   "outputs": [],
   "source": [
    "# Calculate centrality measures\n",
    "degree_centrality = nx.degree_centrality(G)\n",
    "betweenness_centrality = nx.betweenness_centrality(G)\n",
    "closeness_centrality = nx.closeness_centrality(G)\n",
    "eigenvector_centrality = nx.eigenvector_centrality(G)\n",
    "page_rank = nx.pagerank(G)"
   ]
  },
  {
   "cell_type": "code",
   "execution_count": 13,
   "metadata": {
    "tags": []
   },
   "outputs": [
    {
     "name": "stdout",
     "output_type": "stream",
     "text": [
      "      Degree Centrality  Betweenness Centrality  Closeness Centrality  \\\n",
      "Name                                                                    \n",
      "0              0.000000                0.000000              0.000000   \n",
      "1              0.484848                0.376231              0.538803   \n",
      "2              0.242424                0.116486              0.441818   \n",
      "3              0.212121                0.037423              0.394481   \n",
      "4              0.090909                0.016035              0.345170   \n",
      "5              0.121212                0.065294              0.416810   \n",
      "6              0.090909                0.002004              0.368182   \n",
      "7              0.121212                0.001691              0.374422   \n",
      "8              0.121212                0.013889              0.356305   \n",
      "9              0.090909                0.001578              0.345170   \n",
      "10             0.060606                0.002004              0.286895   \n",
      "11             0.030303                0.000000              0.329715   \n",
      "12             0.030303                0.000000              0.329715   \n",
      "13             0.121212                0.020202              0.374422   \n",
      "14             0.060606                0.000000              0.334711   \n",
      "15             0.151515                0.017787              0.315584   \n",
      "16             0.272727                0.157916              0.380878   \n",
      "17             0.181818                0.034740              0.380878   \n",
      "18             0.121212                0.039322              0.416810   \n",
      "19             0.060606                0.009280              0.345170   \n",
      "20             0.090909                0.015298              0.380878   \n",
      "21             0.060606                0.009280              0.345170   \n",
      "22             0.121212                0.039322              0.416810   \n",
      "23             0.060606                0.002638              0.272727   \n",
      "24             0.030303                0.000000              0.262987   \n",
      "25             0.030303                0.000000              0.262987   \n",
      "26             0.000000                0.000000              0.000000   \n",
      "27             0.060606                0.000000              0.272727   \n",
      "28             0.000000                0.000000              0.000000   \n",
      "29             0.000000                0.000000              0.000000   \n",
      "30             0.060606                0.001691              0.298526   \n",
      "31             0.000000                0.000000              0.000000   \n",
      "32             0.090909                0.000947              0.339860   \n",
      "33             0.000000                0.000000              0.000000   \n",
      "\n",
      "      Eigenvector Centrality  Page Rank  \n",
      "Name                                     \n",
      "0               2.447449e-24   0.005190  \n",
      "1               5.151983e-01   0.132437  \n",
      "2               3.177467e-01   0.065792  \n",
      "3               3.167837e-01   0.056945  \n",
      "4               1.265257e-01   0.029386  \n",
      "5               1.600726e-01   0.037149  \n",
      "6               1.430179e-01   0.028445  \n",
      "7               2.422421e-01   0.033474  \n",
      "8               2.083491e-01   0.034551  \n",
      "9               1.740723e-01   0.027239  \n",
      "10              5.112116e-02   0.021410  \n",
      "11              9.189675e-02   0.012226  \n",
      "12              9.189675e-02   0.012226  \n",
      "13              2.222279e-01   0.034381  \n",
      "14              1.175673e-01   0.020324  \n",
      "15              1.430050e-01   0.042837  \n",
      "16              1.880690e-01   0.082197  \n",
      "17              2.106319e-01   0.049291  \n",
      "18              1.885238e-01   0.034255  \n",
      "19              9.022396e-02   0.019944  \n",
      "20              1.549768e-01   0.026491  \n",
      "21              9.022396e-02   0.019944  \n",
      "22              1.885238e-01   0.034255  \n",
      "23              5.905557e-02   0.020236  \n",
      "24              3.354694e-02   0.012954  \n",
      "25              3.354694e-02   0.012954  \n",
      "26              2.447449e-24   0.005190  \n",
      "27              9.614396e-02   0.019411  \n",
      "28              2.447449e-24   0.005190  \n",
      "29              2.447449e-24   0.005190  \n",
      "30              9.384040e-02   0.019523  \n",
      "31              2.447449e-24   0.005190  \n",
      "32              1.439168e-01   0.028582  \n",
      "33              2.447449e-24   0.005190  \n"
     ]
    }
   ],
   "source": [
    "# Convert the lists in the dictionary to pandas Series\n",
    "degree_centrality = pd.Series(degree_centrality)\n",
    "betweenness_centrality = pd.Series(betweenness_centrality)\n",
    "closeness_centrality = pd.Series(closeness_centrality)\n",
    "eigenvector_centrality = pd.Series(eigenvector_centrality)\n",
    "page_rank = pd.Series(page_rank)\n",
    "\n",
    "# Create a dictionary to store the centrality measures for each node\n",
    "centrality_measures = {\n",
    "    'Name': [i for i in range(0, 34)],\n",
    "    'Degree Centrality': degree_centrality,\n",
    "    'Betweenness Centrality': betweenness_centrality,\n",
    "    'Closeness Centrality': closeness_centrality,\n",
    "    'Eigenvector Centrality': eigenvector_centrality,\n",
    "    'Page Rank': page_rank\n",
    "}\n",
    "\n",
    "# Convert the dictionary to a pandas dataframe\n",
    "df = pd.DataFrame(centrality_measures)\n",
    "\n",
    "# Set the index as the node name\n",
    "df.set_index('Name', inplace=True)\n",
    "\n",
    "# Display the table\n",
    "print(df)\n"
   ]
  },
  {
   "cell_type": "code",
   "execution_count": 14,
   "metadata": {
    "tags": []
   },
   "outputs": [],
   "source": [
    "\n",
    "# Add centrality measures as properties to each node\n",
    "for node in G.nodes():\n",
    "    G.nodes[node]['degree_centrality'] = degree_centrality[node]\n",
    "    G.nodes[node]['betweenness_centrality'] = betweenness_centrality[node]\n",
    "    G.nodes[node]['closeness_centrality'] = closeness_centrality[node]\n",
    "    G.nodes[node]['eigenvector_centrality'] = eigenvector_centrality[node]\n",
    "    G.nodes[node]['page_rank'] = page_rank[node]\n"
   ]
  },
  {
   "cell_type": "code",
   "execution_count": 15,
   "metadata": {
    "tags": []
   },
   "outputs": [],
   "source": [
    "import json\n",
    "\n",
    "# Export graph to cytoscape json format\n",
    "cyto_json = json.dumps(nx.readwrite.json_graph.cytoscape_data(G))\n",
    "\n",
    "# Save json file\n",
    "with open(\"cytoscape_graph.json\", \"w\") as f:\n",
    "    f.write(cyto_json)"
   ]
  },
  {
   "cell_type": "code",
   "execution_count": 16,
   "metadata": {
    "tags": []
   },
   "outputs": [
    {
     "name": "stdout",
     "output_type": "stream",
     "text": [
      "{\"data\": [], \"directed\": false, \"multigraph\": false, \"elements\": {\"nodes\": [{\"data\": {\"degree_centrality\": 0.0, \"betweenness_centrality\": 0.0, \"closeness_centrality\": 0.0, \"eigenvector_centrality\": 2.447449283287242e-24, \"page_rank\": 0.0051903114186851226, \"id\": \"0\", \"value\": 0, \"name\": \"0\"}}, {\"data\": {\"degree_centrality\": 0.48484848484848486, \"betweenness_centrality\": 0.3762310606060607, \"closeness_centrality\": 0.5388026607538803, \"eigenvector_centrality\": 0.5151983014949099, \"page_rank\": 0.13243692743011462, \"id\": \"1\", \"value\": 1, \"name\": \"1\"}}, {\"data\": {\"degree_centrality\": 0.24242424242424243, \"betweenness_centrality\": 0.1164862914862915, \"closeness_centrality\": 0.4418181818181819, \"eigenvector_centrality\": 0.3177466777830075, \"page_rank\": 0.06579157778647426, \"id\": \"2\", \"value\": 2, \"name\": \"2\"}}, {\"data\": {\"degree_centrality\": 0.21212121212121213, \"betweenness_centrality\": 0.037423340548340546, \"closeness_centrality\": 0.3944805194805195, \"eigenvector_centrality\": 0.3167837372864214, \"page_rank\": 0.05694507999311667, \"id\": \"3\", \"value\": 3, \"name\": \"3\"}}, {\"data\": {\"degree_centrality\": 0.09090909090909091, \"betweenness_centrality\": 0.016035353535353538, \"closeness_centrality\": 0.3451704545454546, \"eigenvector_centrality\": 0.12652569101962755, \"page_rank\": 0.029385529683368522, \"id\": \"4\", \"value\": 4, \"name\": \"4\"}}, {\"data\": {\"degree_centrality\": 0.12121212121212122, \"betweenness_centrality\": 0.06529356060606059, \"closeness_centrality\": 0.4168096054888508, \"eigenvector_centrality\": 0.16007262953070095, \"page_rank\": 0.03714905328671421, \"id\": \"5\", \"value\": 5, \"name\": \"5\"}}, {\"data\": {\"degree_centrality\": 0.09090909090909091, \"betweenness_centrality\": 0.002004419191919192, \"closeness_centrality\": 0.3681818181818182, \"eigenvector_centrality\": 0.14301791432364377, \"page_rank\": 0.028445449243429562, \"id\": \"6\", \"value\": 6, \"name\": \"6\"}}, {\"data\": {\"degree_centrality\": 0.12121212121212122, \"betweenness_centrality\": 0.001691017316017316, \"closeness_centrality\": 0.37442218798151006, \"eigenvector_centrality\": 0.24224210305620192, \"page_rank\": 0.033473520510227756, \"id\": \"7\", \"value\": 7, \"name\": \"7\"}}, {\"data\": {\"degree_centrality\": 0.12121212121212122, \"betweenness_centrality\": 0.013888888888888886, \"closeness_centrality\": 0.3563049853372434, \"eigenvector_centrality\": 0.20834905282430316, \"page_rank\": 0.03455102245553349, \"id\": \"8\", \"value\": 8, \"name\": \"8\"}}, {\"data\": {\"degree_centrality\": 0.09090909090909091, \"betweenness_centrality\": 0.0015782828282828283, \"closeness_centrality\": 0.3451704545454546, \"eigenvector_centrality\": 0.17407229097996552, \"page_rank\": 0.027238964926375845, \"id\": \"9\", \"value\": 9, \"name\": \"9\"}}, {\"data\": {\"degree_centrality\": 0.06060606060606061, \"betweenness_centrality\": 0.002004419191919192, \"closeness_centrality\": 0.28689492325855964, \"eigenvector_centrality\": 0.051121164424475965, \"page_rank\": 0.021409611318493532, \"id\": \"10\", \"value\": 10, \"name\": \"10\"}}, {\"data\": {\"degree_centrality\": 0.030303030303030304, \"betweenness_centrality\": 0.0, \"closeness_centrality\": 0.32971506105834464, \"eigenvector_centrality\": 0.0918967498991678, \"page_rank\": 0.012226149343621158, \"id\": \"11\", \"value\": 11, \"name\": \"11\"}}, {\"data\": {\"degree_centrality\": 0.030303030303030304, \"betweenness_centrality\": 0.0, \"closeness_centrality\": 0.32971506105834464, \"eigenvector_centrality\": 0.0918967498991678, \"page_rank\": 0.012226149343621158, \"id\": \"12\", \"value\": 12, \"name\": \"12\"}}, {\"data\": {\"degree_centrality\": 0.12121212121212122, \"betweenness_centrality\": 0.0202020202020202, \"closeness_centrality\": 0.37442218798151006, \"eigenvector_centrality\": 0.2222279472248559, \"page_rank\": 0.034381110254662645, \"id\": \"13\", \"value\": 13, \"name\": \"13\"}}, {\"data\": {\"degree_centrality\": 0.06060606060606061, \"betweenness_centrality\": 0.0, \"closeness_centrality\": 0.33471074380165294, \"eigenvector_centrality\": 0.11756733667557345, \"page_rank\": 0.02032424245936199, \"id\": \"14\", \"value\": 14, \"name\": \"14\"}}, {\"data\": {\"degree_centrality\": 0.15151515151515152, \"betweenness_centrality\": 0.017787247474747473, \"closeness_centrality\": 0.31558441558441563, \"eigenvector_centrality\": 0.14300498654618513, \"page_rank\": 0.042836683197089685, \"id\": \"15\", \"value\": 15, \"name\": \"15\"}}, {\"data\": {\"degree_centrality\": 0.2727272727272727, \"betweenness_centrality\": 0.15791621572871573, \"closeness_centrality\": 0.38087774294670845, \"eigenvector_centrality\": 0.18806902074880072, \"page_rank\": 0.08219694680927732, \"id\": \"16\", \"value\": 16, \"name\": \"16\"}}, {\"data\": {\"degree_centrality\": 0.18181818181818182, \"betweenness_centrality\": 0.034740259740259745, \"closeness_centrality\": 0.38087774294670845, \"eigenvector_centrality\": 0.21063194849016634, \"page_rank\": 0.04929051190450429, \"id\": \"17\", \"value\": 17, \"name\": \"17\"}}, {\"data\": {\"degree_centrality\": 0.12121212121212122, \"betweenness_centrality\": 0.03932178932178933, \"closeness_centrality\": 0.4168096054888508, \"eigenvector_centrality\": 0.1885237584427657, \"page_rank\": 0.034254985921183506, \"id\": \"18\", \"value\": 18, \"name\": \"18\"}}, {\"data\": {\"degree_centrality\": 0.06060606060606061, \"betweenness_centrality\": 0.009280303030303031, \"closeness_centrality\": 0.3451704545454546, \"eigenvector_centrality\": 0.09022396413497151, \"page_rank\": 0.01994435639084999, \"id\": \"19\", \"value\": 19, \"name\": \"19\"}}, {\"data\": {\"degree_centrality\": 0.09090909090909091, \"betweenness_centrality\": 0.015298069985569986, \"closeness_centrality\": 0.38087774294670845, \"eigenvector_centrality\": 0.15497681993169232, \"page_rank\": 0.026491462317837812, \"id\": \"20\", \"value\": 20, \"name\": \"20\"}}, {\"data\": {\"degree_centrality\": 0.06060606060606061, \"betweenness_centrality\": 0.009280303030303031, \"closeness_centrality\": 0.3451704545454546, \"eigenvector_centrality\": 0.09022396413497151, \"page_rank\": 0.01994435639084999, \"id\": \"21\", \"value\": 21, \"name\": \"21\"}}, {\"data\": {\"degree_centrality\": 0.12121212121212122, \"betweenness_centrality\": 0.03932178932178933, \"closeness_centrality\": 0.4168096054888508, \"eigenvector_centrality\": 0.1885237584427657, \"page_rank\": 0.034254985921183506, \"id\": \"22\", \"value\": 22, \"name\": \"22\"}}, {\"data\": {\"degree_centrality\": 0.06060606060606061, \"betweenness_centrality\": 0.0026379870129870134, \"closeness_centrality\": 0.2727272727272727, \"eigenvector_centrality\": 0.05905556692774736, \"page_rank\": 0.020236376402643273, \"id\": \"23\", \"value\": 23, \"name\": \"23\"}}, {\"data\": {\"degree_centrality\": 0.030303030303030304, \"betweenness_centrality\": 0.0, \"closeness_centrality\": 0.26298701298701305, \"eigenvector_centrality\": 0.0335469385110734, \"page_rank\": 0.012953835022030818, \"id\": \"24\", \"value\": 24, \"name\": \"24\"}}, {\"data\": {\"degree_centrality\": 0.030303030303030304, \"betweenness_centrality\": 0.0, \"closeness_centrality\": 0.26298701298701305, \"eigenvector_centrality\": 0.0335469385110734, \"page_rank\": 0.012953835022030818, \"id\": \"25\", \"value\": 25, \"name\": \"25\"}}, {\"data\": {\"degree_centrality\": 0.0, \"betweenness_centrality\": 0.0, \"closeness_centrality\": 0.0, \"eigenvector_centrality\": 2.447449283287242e-24, \"page_rank\": 0.0051903114186851226, \"id\": \"26\", \"value\": 26, \"name\": \"26\"}}, {\"data\": {\"degree_centrality\": 0.06060606060606061, \"betweenness_centrality\": 0.0, \"closeness_centrality\": 0.2727272727272727, \"eigenvector_centrality\": 0.09614396045136527, \"page_rank\": 0.01941090693812426, \"id\": \"27\", \"value\": 27, \"name\": \"27\"}}, {\"data\": {\"degree_centrality\": 0.0, \"betweenness_centrality\": 0.0, \"closeness_centrality\": 0.0, \"eigenvector_centrality\": 2.447449283287242e-24, \"page_rank\": 0.0051903114186851226, \"id\": \"28\", \"value\": 28, \"name\": \"28\"}}, {\"data\": {\"degree_centrality\": 0.0, \"betweenness_centrality\": 0.0, \"closeness_centrality\": 0.0, \"eigenvector_centrality\": 2.447449283287242e-24, \"page_rank\": 0.0051903114186851226, \"id\": \"29\", \"value\": 29, \"name\": \"29\"}}, {\"data\": {\"degree_centrality\": 0.06060606060606061, \"betweenness_centrality\": 0.001691017316017316, \"closeness_centrality\": 0.2985257985257985, \"eigenvector_centrality\": 0.09384039885264203, \"page_rank\": 0.019522960118277862, \"id\": \"30\", \"value\": 30, \"name\": \"30\"}}, {\"data\": {\"degree_centrality\": 0.0, \"betweenness_centrality\": 0.0, \"closeness_centrality\": 0.0, \"eigenvector_centrality\": 2.447449283287242e-24, \"page_rank\": 0.0051903114186851226, \"id\": \"31\", \"value\": 31, \"name\": \"31\"}}, {\"data\": {\"degree_centrality\": 0.09090909090909091, \"betweenness_centrality\": 0.000946969696969697, \"closeness_centrality\": 0.3398601398601399, \"eigenvector_centrality\": 0.14391679408076063, \"page_rank\": 0.028581541096890796, \"id\": \"32\", \"value\": 32, \"name\": \"32\"}}, {\"data\": {\"degree_centrality\": 0.0, \"betweenness_centrality\": 0.0, \"closeness_centrality\": 0.0, \"eigenvector_centrality\": 2.447449283287242e-24, \"page_rank\": 0.0051903114186851226, \"id\": \"33\", \"value\": 33, \"name\": \"33\"}}], \"edges\": [{\"data\": {\"source\": 1, \"target\": 2}}, {\"data\": {\"source\": 1, \"target\": 3}}, {\"data\": {\"source\": 1, \"target\": 4}}, {\"data\": {\"source\": 1, \"target\": 5}}, {\"data\": {\"source\": 1, \"target\": 6}}, {\"data\": {\"source\": 1, \"target\": 7}}, {\"data\": {\"source\": 1, \"target\": 8}}, {\"data\": {\"source\": 1, \"target\": 9}}, {\"data\": {\"source\": 1, \"target\": 11}}, {\"data\": {\"source\": 1, \"target\": 12}}, {\"data\": {\"source\": 1, \"target\": 13}}, {\"data\": {\"source\": 1, \"target\": 14}}, {\"data\": {\"source\": 1, \"target\": 18}}, {\"data\": {\"source\": 1, \"target\": 20}}, {\"data\": {\"source\": 1, \"target\": 22}}, {\"data\": {\"source\": 1, \"target\": 32}}, {\"data\": {\"source\": 2, \"target\": 3}}, {\"data\": {\"source\": 2, \"target\": 7}}, {\"data\": {\"source\": 2, \"target\": 13}}, {\"data\": {\"source\": 2, \"target\": 17}}, {\"data\": {\"source\": 2, \"target\": 19}}, {\"data\": {\"source\": 2, \"target\": 21}}, {\"data\": {\"source\": 2, \"target\": 30}}, {\"data\": {\"source\": 3, \"target\": 7}}, {\"data\": {\"source\": 3, \"target\": 8}}, {\"data\": {\"source\": 3, \"target\": 9}}, {\"data\": {\"source\": 3, \"target\": 13}}, {\"data\": {\"source\": 3, \"target\": 27}}, {\"data\": {\"source\": 4, \"target\": 6}}, {\"data\": {\"source\": 4, \"target\": 10}}, {\"data\": {\"source\": 5, \"target\": 6}}, {\"data\": {\"source\": 5, \"target\": 10}}, {\"data\": {\"source\": 5, \"target\": 16}}, {\"data\": {\"source\": 7, \"target\": 8}}, {\"data\": {\"source\": 8, \"target\": 30}}, {\"data\": {\"source\": 9, \"target\": 32}}, {\"data\": {\"source\": 13, \"target\": 27}}, {\"data\": {\"source\": 14, \"target\": 32}}, {\"data\": {\"source\": 15, \"target\": 17}}, {\"data\": {\"source\": 15, \"target\": 18}}, {\"data\": {\"source\": 15, \"target\": 20}}, {\"data\": {\"source\": 15, \"target\": 22}}, {\"data\": {\"source\": 15, \"target\": 23}}, {\"data\": {\"source\": 16, \"target\": 17}}, {\"data\": {\"source\": 16, \"target\": 18}}, {\"data\": {\"source\": 16, \"target\": 19}}, {\"data\": {\"source\": 16, \"target\": 21}}, {\"data\": {\"source\": 16, \"target\": 22}}, {\"data\": {\"source\": 16, \"target\": 23}}, {\"data\": {\"source\": 16, \"target\": 24}}, {\"data\": {\"source\": 16, \"target\": 25}}, {\"data\": {\"source\": 17, \"target\": 18}}, {\"data\": {\"source\": 17, \"target\": 20}}, {\"data\": {\"source\": 17, \"target\": 22}}]}}\n"
     ]
    }
   ],
   "source": [
    "print(cyto_json)"
   ]
  },
  {
   "cell_type": "code",
   "execution_count": null,
   "metadata": {},
   "outputs": [],
   "source": []
  },
  {
   "cell_type": "code",
   "execution_count": null,
   "metadata": {},
   "outputs": [],
   "source": []
  }
 ],
 "metadata": {
  "kernelspec": {
   "display_name": "Python 3 (ipykernel)",
   "language": "python",
   "name": "python3"
  },
  "language_info": {
   "codemirror_mode": {
    "name": "ipython",
    "version": 3
   },
   "file_extension": ".py",
   "mimetype": "text/x-python",
   "name": "python",
   "nbconvert_exporter": "python",
   "pygments_lexer": "ipython3",
   "version": "3.9.12"
  }
 },
 "nbformat": 4,
 "nbformat_minor": 4
}
